{
  "nbformat": 4,
  "nbformat_minor": 0,
  "metadata": {
    "colab": {
      "name": "Dicionário Léxico e análise de sentimentos.ipynb",
      "provenance": [],
      "authorship_tag": "ABX9TyOXSZTaK92zWlZTbVM4GZT6",
      "include_colab_link": true
    },
    "kernelspec": {
      "name": "python3",
      "display_name": "Python 3"
    },
    "language_info": {
      "name": "python"
    }
  },
  "cells": [
    {
      "cell_type": "markdown",
      "metadata": {
        "id": "view-in-github",
        "colab_type": "text"
      },
      "source": [
        "<a href=\"https://colab.research.google.com/github/mattreiso/br-python-challenges/blob/master/Dicion%C3%A1rio_L%C3%A9xico_e_an%C3%A1lise_de_sentimentos.ipynb\" target=\"_parent\"><img src=\"https://colab.research.google.com/assets/colab-badge.svg\" alt=\"Open In Colab\"/></a>"
      ]
    },
    {
      "cell_type": "code",
      "execution_count": 2,
      "metadata": {
        "id": "AX_KK350bL_N"
      },
      "outputs": [],
      "source": [
        "import requests"
      ]
    },
    {
      "cell_type": "code",
      "source": [
        "response = requests.get('https://raw.githubusercontent.com/sillasgonzaga/lexiconPT/master/data-raw/SentiLex-lem-PT02.txt').text"
      ],
      "metadata": {
        "id": "HIxC0RMjNCkO"
      },
      "execution_count": 3,
      "outputs": []
    },
    {
      "cell_type": "code",
      "source": [
        "print(response)"
      ],
      "metadata": {
        "id": "lEHGA014NOHq"
      },
      "execution_count": null,
      "outputs": []
    },
    {
      "cell_type": "code",
      "source": [
        "dic_polaridade = {}\n",
        "for linha in response.split('\\n'):\n",
        "#splitar para pegar a palavra em si na posição 0\n",
        "  palavra = linha.split('.')[0]\n",
        "#splitar para pegar a polaridade na posição 2 e splita de novo pelo igual para pegar so o valor\n",
        "  polaridade = linha.split(';')[2].split('=')[1]\n",
        "#ai começa a preencher o dicionário atribuindo o valor à respectiva palavra\n",
        "  dic_polaridade[palavra] = int(polaridade)\n",
        "#int para que seja possível somar os valores depois para definir a polaridade da frase"
      ],
      "metadata": {
        "id": "AkQjBkcFNbvy"
      },
      "execution_count": 9,
      "outputs": []
    },
    {
      "cell_type": "code",
      "source": [
        "dic_polaridade"
      ],
      "metadata": {
        "id": "MtB4FWqlPemd"
      },
      "execution_count": null,
      "outputs": []
    },
    {
      "cell_type": "code",
      "source": [
        "def analise_sentimento(frase):\n",
        "  soma = 0\n",
        "  for palavra in frase.split(' '):\n",
        "    soma += dic_polaridade.get(palavra,0)\n",
        "  if soma > 0:\n",
        "    print('Positivo')\n",
        "  elif soma == 0:\n",
        "    print('Neutro')\n",
        "  else:\n",
        "    print('negativo')"
      ],
      "metadata": {
        "id": "bKJcNn8ZPrxK"
      },
      "execution_count": 12,
      "outputs": []
    },
    {
      "cell_type": "code",
      "source": [
        "analise_sentimento('estou preocupado')"
      ],
      "metadata": {
        "colab": {
          "base_uri": "https://localhost:8080/"
        },
        "id": "hBN9kIO-QU-a",
        "outputId": "0123a69b-c34f-4ba9-d806-f59bcef430ea"
      },
      "execution_count": 18,
      "outputs": [
        {
          "output_type": "stream",
          "name": "stdout",
          "text": [
            "negativo\n"
          ]
        }
      ]
    },
    {
      "cell_type": "code",
      "source": [
        "analise_sentimento('estou feliz')"
      ],
      "metadata": {
        "colab": {
          "base_uri": "https://localhost:8080/"
        },
        "id": "fgBJqX_VQxte",
        "outputId": "51f1f045-8d60-4965-ffa1-7ed8df9b3f7d"
      },
      "execution_count": 19,
      "outputs": [
        {
          "output_type": "stream",
          "name": "stdout",
          "text": [
            "Positivo\n"
          ]
        }
      ]
    },
    {
      "cell_type": "code",
      "source": [
        "analise_sentimento('monarquia absolutista')"
      ],
      "metadata": {
        "colab": {
          "base_uri": "https://localhost:8080/"
        },
        "id": "K5fBCxHtQ_Ic",
        "outputId": "326a7f48-6f05-42dc-e2ef-90eeef85a2ed"
      },
      "execution_count": 20,
      "outputs": [
        {
          "output_type": "stream",
          "name": "stdout",
          "text": [
            "Neutro\n"
          ]
        }
      ]
    }
  ]
}